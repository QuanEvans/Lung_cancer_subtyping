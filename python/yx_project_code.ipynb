{
 "cells": [
  {
   "cell_type": "code",
   "execution_count": 59,
   "id": "1edf1b76-755d-42da-8975-c186eb39a2f2",
   "metadata": {},
   "outputs": [],
   "source": [
    "# Load the GEO Data "
   ]
  },
  {
   "cell_type": "code",
   "execution_count": 60,
   "id": "f10257fb-1eef-481a-89e5-63360f9ee806",
   "metadata": {},
   "outputs": [],
   "source": [
    "import GEOparse\n",
    "import pandas as pd\n",
    "import sklearn.cluster"
   ]
  },
  {
   "cell_type": "code",
   "execution_count": 61,
   "id": "6c4e2dc7-23a2-473f-8bdc-0dd6949641a6",
   "metadata": {},
   "outputs": [],
   "source": [
    "import matplotlib.pyplot as plt\n",
    "import seaborn as sns; sns.set()\n",
    "import numpy as np\n",
    "from sklearn.cluster import KMeans\n",
    "from sklearn.metrics import accuracy_score\n",
    "from sklearn.model_selection import train_test_split"
   ]
  },
  {
   "cell_type": "code",
   "execution_count": 62,
   "id": "b278c5a2-801f-40f8-9dd6-6b121a8a8c1e",
   "metadata": {
    "tags": []
   },
   "outputs": [
    {
     "name": "stderr",
     "output_type": "stream",
     "text": [
      "28-Nov-2022 15:05:04 INFO GEOparse - Parsing ./GSE10245_family.soft.gz: \n",
      "28-Nov-2022 15:05:04 DEBUG GEOparse - DATABASE: GeoMiame\n",
      "28-Nov-2022 15:05:04 DEBUG GEOparse - SERIES: GSE10245\n",
      "28-Nov-2022 15:05:04 DEBUG GEOparse - PLATFORM: GPL570\n",
      "/opt/anaconda3/lib/python3.9/site-packages/GEOparse/GEOparse.py:401: DtypeWarning: Columns (2) have mixed types. Specify dtype option on import or set low_memory=False.\n",
      "  return read_csv(StringIO(data), index_col=None, sep=\"\\t\")\n",
      "28-Nov-2022 15:05:05 DEBUG GEOparse - SAMPLE: GSM258551\n",
      "28-Nov-2022 15:05:05 DEBUG GEOparse - SAMPLE: GSM258552\n",
      "28-Nov-2022 15:05:05 DEBUG GEOparse - SAMPLE: GSM258553\n",
      "28-Nov-2022 15:05:06 DEBUG GEOparse - SAMPLE: GSM258554\n",
      "28-Nov-2022 15:05:06 DEBUG GEOparse - SAMPLE: GSM258555\n",
      "28-Nov-2022 15:05:06 DEBUG GEOparse - SAMPLE: GSM258556\n",
      "28-Nov-2022 15:05:06 DEBUG GEOparse - SAMPLE: GSM258557\n",
      "28-Nov-2022 15:05:06 DEBUG GEOparse - SAMPLE: GSM258558\n",
      "28-Nov-2022 15:05:06 DEBUG GEOparse - SAMPLE: GSM258559\n",
      "28-Nov-2022 15:05:06 DEBUG GEOparse - SAMPLE: GSM258560\n",
      "28-Nov-2022 15:05:06 DEBUG GEOparse - SAMPLE: GSM258561\n",
      "28-Nov-2022 15:05:06 DEBUG GEOparse - SAMPLE: GSM258562\n",
      "28-Nov-2022 15:05:06 DEBUG GEOparse - SAMPLE: GSM258563\n",
      "28-Nov-2022 15:05:06 DEBUG GEOparse - SAMPLE: GSM258564\n",
      "28-Nov-2022 15:05:06 DEBUG GEOparse - SAMPLE: GSM258565\n",
      "28-Nov-2022 15:05:07 DEBUG GEOparse - SAMPLE: GSM258566\n",
      "28-Nov-2022 15:05:07 DEBUG GEOparse - SAMPLE: GSM258567\n",
      "28-Nov-2022 15:05:07 DEBUG GEOparse - SAMPLE: GSM258568\n",
      "28-Nov-2022 15:05:07 DEBUG GEOparse - SAMPLE: GSM258569\n",
      "28-Nov-2022 15:05:07 DEBUG GEOparse - SAMPLE: GSM258570\n",
      "28-Nov-2022 15:05:07 DEBUG GEOparse - SAMPLE: GSM258571\n",
      "28-Nov-2022 15:05:07 DEBUG GEOparse - SAMPLE: GSM258572\n",
      "28-Nov-2022 15:05:07 DEBUG GEOparse - SAMPLE: GSM258573\n",
      "28-Nov-2022 15:05:07 DEBUG GEOparse - SAMPLE: GSM258574\n",
      "28-Nov-2022 15:05:07 DEBUG GEOparse - SAMPLE: GSM258575\n",
      "28-Nov-2022 15:05:07 DEBUG GEOparse - SAMPLE: GSM258576\n",
      "28-Nov-2022 15:05:07 DEBUG GEOparse - SAMPLE: GSM258577\n",
      "28-Nov-2022 15:05:08 DEBUG GEOparse - SAMPLE: GSM258578\n",
      "28-Nov-2022 15:05:08 DEBUG GEOparse - SAMPLE: GSM258579\n",
      "28-Nov-2022 15:05:08 DEBUG GEOparse - SAMPLE: GSM258580\n",
      "28-Nov-2022 15:05:08 DEBUG GEOparse - SAMPLE: GSM258581\n",
      "28-Nov-2022 15:05:08 DEBUG GEOparse - SAMPLE: GSM258582\n",
      "28-Nov-2022 15:05:08 DEBUG GEOparse - SAMPLE: GSM258583\n",
      "28-Nov-2022 15:05:08 DEBUG GEOparse - SAMPLE: GSM258584\n",
      "28-Nov-2022 15:05:08 DEBUG GEOparse - SAMPLE: GSM258585\n",
      "28-Nov-2022 15:05:08 DEBUG GEOparse - SAMPLE: GSM258586\n",
      "28-Nov-2022 15:05:08 DEBUG GEOparse - SAMPLE: GSM258587\n",
      "28-Nov-2022 15:05:08 DEBUG GEOparse - SAMPLE: GSM258588\n",
      "28-Nov-2022 15:05:09 DEBUG GEOparse - SAMPLE: GSM258589\n",
      "28-Nov-2022 15:05:09 DEBUG GEOparse - SAMPLE: GSM258590\n",
      "28-Nov-2022 15:05:09 DEBUG GEOparse - SAMPLE: GSM258591\n",
      "28-Nov-2022 15:05:09 DEBUG GEOparse - SAMPLE: GSM258592\n",
      "28-Nov-2022 15:05:09 DEBUG GEOparse - SAMPLE: GSM258593\n",
      "28-Nov-2022 15:05:09 DEBUG GEOparse - SAMPLE: GSM258594\n",
      "28-Nov-2022 15:05:09 DEBUG GEOparse - SAMPLE: GSM258595\n",
      "28-Nov-2022 15:05:09 DEBUG GEOparse - SAMPLE: GSM258596\n",
      "28-Nov-2022 15:05:09 DEBUG GEOparse - SAMPLE: GSM258597\n",
      "28-Nov-2022 15:05:09 DEBUG GEOparse - SAMPLE: GSM258598\n",
      "28-Nov-2022 15:05:09 DEBUG GEOparse - SAMPLE: GSM258599\n",
      "28-Nov-2022 15:05:09 DEBUG GEOparse - SAMPLE: GSM258600\n",
      "28-Nov-2022 15:05:10 DEBUG GEOparse - SAMPLE: GSM258601\n",
      "28-Nov-2022 15:05:10 DEBUG GEOparse - SAMPLE: GSM258602\n",
      "28-Nov-2022 15:05:10 DEBUG GEOparse - SAMPLE: GSM258603\n",
      "28-Nov-2022 15:05:10 DEBUG GEOparse - SAMPLE: GSM258604\n",
      "28-Nov-2022 15:05:10 DEBUG GEOparse - SAMPLE: GSM258605\n",
      "28-Nov-2022 15:05:10 DEBUG GEOparse - SAMPLE: GSM258606\n",
      "28-Nov-2022 15:05:10 DEBUG GEOparse - SAMPLE: GSM258607\n",
      "28-Nov-2022 15:05:10 DEBUG GEOparse - SAMPLE: GSM258608\n"
     ]
    }
   ],
   "source": [
    "gse = GEOparse.get_GEO(filepath=\"./GSE10245_family.soft.gz\")"
   ]
  },
  {
   "cell_type": "code",
   "execution_count": 66,
   "id": "51ea4c2b-5f90-49ce-9797-493e1cd35ac2",
   "metadata": {},
   "outputs": [],
   "source": [
    "matrix_data = gse.pivot_samples(\"VALUE\").T"
   ]
  },
  {
   "cell_type": "code",
   "execution_count": 67,
   "id": "1f412d85-40c7-419c-90a4-bba3e38fd117",
   "metadata": {},
   "outputs": [],
   "source": [
    "charac_list = []\n",
    "for gsm in gse.gsms.values():\n",
    "    charac_list.append(gsm.metadata[\"characteristics_ch1\"][0].split(\":\")[1][1:])"
   ]
  },
  {
   "cell_type": "code",
   "execution_count": 68,
   "id": "718982a2-4324-4ed3-8698-7af302aa18ac",
   "metadata": {},
   "outputs": [],
   "source": [
    "# Below are part 4,5,6"
   ]
  },
  {
   "cell_type": "code",
   "execution_count": 69,
   "id": "2bb3b9e7-c9ae-4715-b70b-20c66679a854",
   "metadata": {},
   "outputs": [],
   "source": [
    "# Accuracy of training data with model trained on training data \n",
    "def compute_accuracy(Train_data,Train_subtype,random_state_num): \n",
    "    #develope the kmeans model\n",
    "    kmeans = KMeans(n_clusters = 2, random_state = random_state_num).fit(Train_data)\n",
    "    \n",
    "    # Predict label(in the form of array)\n",
    "    predict_label = kmeans.labels_\n",
    "    # convert predict label array into list \n",
    "    predict_label = predict_label.tolist()\n",
    "    \n",
    "    # Create a dataframe for predict label and subtype\n",
    "    df = pd.DataFrame([predict_label,Train_subtype]).T\n",
    "    df.columns = [\"Cluster\", \"Subtype\"]\n",
    "    \n",
    "    # Retrive the subtype with cluster == 1\n",
    "    df_1 = df.loc[df['Cluster'] == 1]\n",
    "    # Find the most frequent subtype \n",
    "    sub_1 = df_1['Subtype'].mode().iloc[0]\n",
    "    \n",
    "    # Retrive the subtype with cluster == 0\n",
    "    df_0 = df.loc[df['Cluster'] == 0]\n",
    "    # Find the most frequent subtype \n",
    "    sub_0 = df_0['Subtype'].mode().iloc[0]\n",
    "    \n",
    "    # Define the subtype and corresponding labels\n",
    "    cancer_subtype = {sub_0: 0,sub_1: 1}\n",
    "    \n",
    "    # convert train_cancer_type into train_label\n",
    "    train_label = [cancer_subtype[item] for item in Train_subtype]\n",
    "    # Compute accuracy_score \n",
    "    return accuracy_score(train_label, predict_label)"
   ]
  },
  {
   "cell_type": "code",
   "execution_count": 70,
   "id": "7fa4cbf1-4363-45dd-a830-30ff98eef9cc",
   "metadata": {},
   "outputs": [
    {
     "data": {
      "text/plain": [
       "0.8793103448275862"
      ]
     },
     "execution_count": 70,
     "metadata": {},
     "output_type": "execute_result"
    }
   ],
   "source": [
    "# Accuracy of the model trained on all data \n",
    "compute_accuracy(matrix_data,charac_list,0)"
   ]
  },
  {
   "cell_type": "code",
   "execution_count": 71,
   "id": "07ef3a72-efd2-450e-aa0c-1f95db8d7102",
   "metadata": {},
   "outputs": [],
   "source": [
    "# Split all data into 50% train and 50% test\n",
    "X_train, X_test, y_train, y_test = train_test_split(matrix_data,charac_list,test_size=0.5)"
   ]
  },
  {
   "cell_type": "code",
   "execution_count": 72,
   "id": "d489d5d9-340e-4c04-8831-337cf51ca99e",
   "metadata": {},
   "outputs": [
    {
     "data": {
      "text/plain": [
       "0.9310344827586207"
      ]
     },
     "execution_count": 72,
     "metadata": {},
     "output_type": "execute_result"
    }
   ],
   "source": [
    "# Accuracy of the model trained on 50% of training data \n",
    "compute_accuracy(X_train,y_train,0)"
   ]
  },
  {
   "cell_type": "code",
   "execution_count": 73,
   "id": "4f428e11-1aee-4dd8-8562-3d142ce5cf55",
   "metadata": {},
   "outputs": [],
   "source": [
    "# Accuracy of testing data with model trained on training data \n",
    "def compute_test_accuracy(Data,subtype,random_state_num):\n",
    "    \n",
    "    # Split all data into 50% train and 50% test\n",
    "    X_train, X_test, y_train, y_test = train_test_split(matrix_data,charac_list,test_size=0.5)\n",
    "    \n",
    "    # Develop kmeans model trained based on training data \n",
    "    kmeans = KMeans(n_clusters = 2, random_state = random_state_num).fit(X_train)\n",
    "    \n",
    "    # Predict label for testing data\n",
    "    predict_label = kmeans.fit_predict(X_test)\n",
    "\n",
    "    # Predict label for testing data\n",
    "    predict_label = kmeans.fit_predict(X_test)\n",
    "    # convert predict label array into list \n",
    "    predict_label = predict_label.tolist()\n",
    "\n",
    "    # Create a dataframe for predict label and subtype(test label)\n",
    "    df = pd.DataFrame([predict_label,y_test]).T\n",
    "    df.columns = [\"Cluster\", \"Subtype\"]\n",
    "\n",
    "    # Retrive the subtype with cluster == 1\n",
    "    df_1 = df.loc[df['Cluster'] == 1]\n",
    "    # Find the most frequent subtype \n",
    "    sub_1 = df_1['Subtype'].mode().iloc[0]\n",
    "\n",
    "    # Retrive the subtype with cluster == 0\n",
    "    df_0 = df.loc[df['Cluster'] == 0]\n",
    "    # Find the most frequent subtype \n",
    "    sub_0 = df_0['Subtype'].mode().iloc[0]\n",
    "\n",
    "    # Define the subtype and corresponding labels\n",
    "    cancer_subtype = {sub_0: 0,sub_1: 1}\n",
    "\n",
    "    # convert train_cancer_type into train_label\n",
    "    train_label = [cancer_subtype[item] for item in y_test]\n",
    "    \n",
    "    return accuracy_score(train_label, predict_label)"
   ]
  },
  {
   "cell_type": "code",
   "execution_count": 74,
   "id": "16b57193-d398-4414-84bb-f90ac5c66a9f",
   "metadata": {},
   "outputs": [
    {
     "data": {
      "text/plain": [
       "0.9655172413793104"
      ]
     },
     "execution_count": 74,
     "metadata": {},
     "output_type": "execute_result"
    }
   ],
   "source": [
    "compute_test_accuracy(matrix_data,charac_list,0)"
   ]
  },
  {
   "cell_type": "code",
   "execution_count": null,
   "id": "77313481-7661-4b8b-a041-710662671b9f",
   "metadata": {},
   "outputs": [],
   "source": []
  }
 ],
 "metadata": {
  "kernelspec": {
   "display_name": "Python 3 (ipykernel)",
   "language": "python",
   "name": "python3"
  },
  "language_info": {
   "codemirror_mode": {
    "name": "ipython",
    "version": 3
   },
   "file_extension": ".py",
   "mimetype": "text/x-python",
   "name": "python",
   "nbconvert_exporter": "python",
   "pygments_lexer": "ipython3",
   "version": "3.9.12"
  }
 },
 "nbformat": 4,
 "nbformat_minor": 5
}
