{
 "cells": [
  {
   "cell_type": "code",
   "execution_count": 1,
   "metadata": {},
   "outputs": [],
   "source": [
    "from gse import GSEs\n",
    "import GEOparse"
   ]
  },
  {
   "cell_type": "code",
   "execution_count": 2,
   "metadata": {},
   "outputs": [
    {
     "name": "stderr",
     "output_type": "stream",
     "text": [
      "18-Oct-2022 03:54:05 INFO GEOparse - Parsing ./../data/GSE10245_family.soft.gz: \n",
      "18-Oct-2022 03:54:05 DEBUG GEOparse - DATABASE: GeoMiame\n",
      "18-Oct-2022 03:54:05 DEBUG GEOparse - SERIES: GSE10245\n",
      "18-Oct-2022 03:54:05 DEBUG GEOparse - PLATFORM: GPL570\n",
      "c:\\Users\\QuanEvans\\AppData\\Local\\Programs\\Python\\Python310\\lib\\site-packages\\GEOparse\\GEOparse.py:545: DtypeWarning: Columns (2) have mixed types.Specify dtype option on import or set low_memory=False.\n",
      "  table_data = parse_table_data(gpl_soft)\n",
      "18-Oct-2022 03:54:07 DEBUG GEOparse - SAMPLE: GSM258551\n",
      "18-Oct-2022 03:54:07 DEBUG GEOparse - SAMPLE: GSM258552\n",
      "18-Oct-2022 03:54:07 DEBUG GEOparse - SAMPLE: GSM258553\n",
      "18-Oct-2022 03:54:07 DEBUG GEOparse - SAMPLE: GSM258554\n",
      "18-Oct-2022 03:54:07 DEBUG GEOparse - SAMPLE: GSM258555\n",
      "18-Oct-2022 03:54:07 DEBUG GEOparse - SAMPLE: GSM258556\n",
      "18-Oct-2022 03:54:08 DEBUG GEOparse - SAMPLE: GSM258557\n",
      "18-Oct-2022 03:54:08 DEBUG GEOparse - SAMPLE: GSM258558\n",
      "18-Oct-2022 03:54:08 DEBUG GEOparse - SAMPLE: GSM258559\n",
      "18-Oct-2022 03:54:08 DEBUG GEOparse - SAMPLE: GSM258560\n",
      "18-Oct-2022 03:54:08 DEBUG GEOparse - SAMPLE: GSM258561\n",
      "18-Oct-2022 03:54:08 DEBUG GEOparse - SAMPLE: GSM258562\n",
      "18-Oct-2022 03:54:08 DEBUG GEOparse - SAMPLE: GSM258563\n",
      "18-Oct-2022 03:54:08 DEBUG GEOparse - SAMPLE: GSM258564\n",
      "18-Oct-2022 03:54:08 DEBUG GEOparse - SAMPLE: GSM258565\n",
      "18-Oct-2022 03:54:09 DEBUG GEOparse - SAMPLE: GSM258566\n",
      "18-Oct-2022 03:54:09 DEBUG GEOparse - SAMPLE: GSM258567\n",
      "18-Oct-2022 03:54:09 DEBUG GEOparse - SAMPLE: GSM258568\n",
      "18-Oct-2022 03:54:09 DEBUG GEOparse - SAMPLE: GSM258569\n",
      "18-Oct-2022 03:54:09 DEBUG GEOparse - SAMPLE: GSM258570\n",
      "18-Oct-2022 03:54:09 DEBUG GEOparse - SAMPLE: GSM258571\n",
      "18-Oct-2022 03:54:09 DEBUG GEOparse - SAMPLE: GSM258572\n",
      "18-Oct-2022 03:54:09 DEBUG GEOparse - SAMPLE: GSM258573\n",
      "18-Oct-2022 03:54:09 DEBUG GEOparse - SAMPLE: GSM258574\n",
      "18-Oct-2022 03:54:09 DEBUG GEOparse - SAMPLE: GSM258575\n",
      "18-Oct-2022 03:54:09 DEBUG GEOparse - SAMPLE: GSM258576\n",
      "18-Oct-2022 03:54:10 DEBUG GEOparse - SAMPLE: GSM258577\n",
      "18-Oct-2022 03:54:10 DEBUG GEOparse - SAMPLE: GSM258578\n",
      "18-Oct-2022 03:54:10 DEBUG GEOparse - SAMPLE: GSM258579\n",
      "18-Oct-2022 03:54:10 DEBUG GEOparse - SAMPLE: GSM258580\n",
      "18-Oct-2022 03:54:10 DEBUG GEOparse - SAMPLE: GSM258581\n",
      "18-Oct-2022 03:54:10 DEBUG GEOparse - SAMPLE: GSM258582\n",
      "18-Oct-2022 03:54:10 DEBUG GEOparse - SAMPLE: GSM258583\n",
      "18-Oct-2022 03:54:10 DEBUG GEOparse - SAMPLE: GSM258584\n",
      "18-Oct-2022 03:54:10 DEBUG GEOparse - SAMPLE: GSM258585\n",
      "18-Oct-2022 03:54:10 DEBUG GEOparse - SAMPLE: GSM258586\n",
      "18-Oct-2022 03:54:11 DEBUG GEOparse - SAMPLE: GSM258587\n",
      "18-Oct-2022 03:54:11 DEBUG GEOparse - SAMPLE: GSM258588\n",
      "18-Oct-2022 03:54:11 DEBUG GEOparse - SAMPLE: GSM258589\n",
      "18-Oct-2022 03:54:11 DEBUG GEOparse - SAMPLE: GSM258590\n",
      "18-Oct-2022 03:54:11 DEBUG GEOparse - SAMPLE: GSM258591\n",
      "18-Oct-2022 03:54:11 DEBUG GEOparse - SAMPLE: GSM258592\n",
      "18-Oct-2022 03:54:11 DEBUG GEOparse - SAMPLE: GSM258593\n",
      "18-Oct-2022 03:54:11 DEBUG GEOparse - SAMPLE: GSM258594\n",
      "18-Oct-2022 03:54:11 DEBUG GEOparse - SAMPLE: GSM258595\n",
      "18-Oct-2022 03:54:11 DEBUG GEOparse - SAMPLE: GSM258596\n",
      "18-Oct-2022 03:54:12 DEBUG GEOparse - SAMPLE: GSM258597\n",
      "18-Oct-2022 03:54:12 DEBUG GEOparse - SAMPLE: GSM258598\n",
      "18-Oct-2022 03:54:12 DEBUG GEOparse - SAMPLE: GSM258599\n",
      "18-Oct-2022 03:54:12 DEBUG GEOparse - SAMPLE: GSM258600\n",
      "18-Oct-2022 03:54:12 DEBUG GEOparse - SAMPLE: GSM258601\n",
      "18-Oct-2022 03:54:12 DEBUG GEOparse - SAMPLE: GSM258602\n",
      "18-Oct-2022 03:54:12 DEBUG GEOparse - SAMPLE: GSM258603\n",
      "18-Oct-2022 03:54:12 DEBUG GEOparse - SAMPLE: GSM258604\n",
      "18-Oct-2022 03:54:12 DEBUG GEOparse - SAMPLE: GSM258605\n",
      "18-Oct-2022 03:54:12 DEBUG GEOparse - SAMPLE: GSM258606\n",
      "18-Oct-2022 03:54:12 DEBUG GEOparse - SAMPLE: GSM258607\n",
      "18-Oct-2022 03:54:13 DEBUG GEOparse - SAMPLE: GSM258608\n"
     ]
    }
   ],
   "source": [
    "filepath=\"./../data/GSE10245_family.soft.gz\"\n",
    "gse = GSEs(file_path=filepath)"
   ]
  },
  {
   "cell_type": "code",
   "execution_count": 17,
   "metadata": {},
   "outputs": [
    {
     "data": {
      "text/plain": [
       "0.896551724137931"
      ]
     },
     "execution_count": 17,
     "metadata": {},
     "output_type": "execute_result"
    }
   ],
   "source": [
    "gse.set_seed(575)\n",
    "gse.train_model().predict().accuracy #(i) train the model on all the data and compute the accuracy of the model on that data"
   ]
  },
  {
   "cell_type": "code",
   "execution_count": 18,
   "metadata": {},
   "outputs": [
    {
     "data": {
      "text/plain": [
       "0.896551724137931"
      ]
     },
     "execution_count": 18,
     "metadata": {},
     "output_type": "execute_result"
    }
   ],
   "source": [
    "gse.train_model(n_clusters=2,train_frac=0.5).predict(all_data=True).accuracy #(ii) train the model on half of the data and compute the accuracy of the model on that data"
   ]
  },
  {
   "cell_type": "code",
   "execution_count": 19,
   "metadata": {},
   "outputs": [
    {
     "data": {
      "text/plain": [
       "0.896551724137931"
      ]
     },
     "execution_count": 19,
     "metadata": {},
     "output_type": "execute_result"
    }
   ],
   "source": [
    "gse.train_model(n_clusters=2, train_frac=0.5).predict().accuracy #(iii) compute the model accuracy built at point (ii) on the other half of the data (test data)"
   ]
  },
  {
   "cell_type": "code",
   "execution_count": null,
   "metadata": {},
   "outputs": [],
   "source": []
  }
 ],
 "metadata": {
  "kernelspec": {
   "display_name": "Python 3.10.1 64-bit",
   "language": "python",
   "name": "python3"
  },
  "language_info": {
   "codemirror_mode": {
    "name": "ipython",
    "version": 3
   },
   "file_extension": ".py",
   "mimetype": "text/x-python",
   "name": "python",
   "nbconvert_exporter": "python",
   "pygments_lexer": "ipython3",
   "version": "3.10.1"
  },
  "orig_nbformat": 4,
  "vscode": {
   "interpreter": {
    "hash": "92e387a38cc3b0508e902df8768d8194c3471c394b94fb3aca65ff22665e4fd4"
   }
  }
 },
 "nbformat": 4,
 "nbformat_minor": 2
}
